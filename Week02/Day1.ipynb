{
 "cells": [
  {
   "cell_type": "markdown",
   "metadata": {},
   "source": [
    "概率"
   ]
  }
 ],
 "metadata": {
  "language_info": {
   "name": "python"
  }
 },
 "nbformat": 4,
 "nbformat_minor": 2
}
