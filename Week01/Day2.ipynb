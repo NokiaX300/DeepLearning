{
 "cells": [
  {
   "cell_type": "markdown",
   "metadata": {},
   "source": [
    "引言"
   ]
  },
  {
   "cell_type": "code",
   "execution_count": null,
   "metadata": {
    "vscode": {
     "languageId": "powershell"
    }
   },
   "outputs": [],
   "source": [
    "# 教材启动流程\n",
    "activate d2l\n",
    "D:\n",
    "cd D:\\Program\\d2l\\pytorch\n",
    "jupyter notebook"
   ]
  },
  {
   "cell_type": "code",
   "execution_count": null,
   "metadata": {},
   "outputs": [],
   "source": [
    "# 回归将关注平方误差损失函数的最小化\n",
    "# 分类问题的常见损失函数被称为交叉熵"
   ]
  },
  {
   "cell_type": "code",
   "execution_count": null,
   "metadata": {},
   "outputs": [],
   "source": [
    "# 监督学习：每个样本包含特征和相应标签值\n",
    "# 无监督学习：\n",
    "#     聚类（clustering）问题\n",
    "#     主成分分析\n",
    "#     因果关系"
   ]
  },
  {
   "cell_type": "code",
   "execution_count": null,
   "metadata": {},
   "outputs": [],
   "source": [
    "# 当环境可被完全观察到时，强化学习问题被称为马尔可夫决策过程（markov decision process）。 \n",
    "# 当状态不依赖于之前的操作时，我们称该问题为上下文赌博机（contextual bandit problem）。 \n",
    "# 当没有状态，只有一组最初未知回报的可用动作时，这个问题就是经典的多臂赌博机（multi-armed bandit problem）。"
   ]
  }
 ],
 "metadata": {
  "kernelspec": {
   "display_name": "d2l",
   "language": "python",
   "name": "python3"
  },
  "language_info": {
   "name": "python",
   "version": "3.9.21"
  }
 },
 "nbformat": 4,
 "nbformat_minor": 2
}
